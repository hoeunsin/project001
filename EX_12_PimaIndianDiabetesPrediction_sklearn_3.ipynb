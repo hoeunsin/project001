{
 "cells": [
  {
   "cell_type": "code",
   "execution_count": 1,
   "id": "0cbd6c89",
   "metadata": {},
   "outputs": [],
   "source": [
    "# import pandas , numpy , matplotlib\n",
    "import numpy as np\n",
    "import pandas as pd\n",
    "import matplotlib.pyplot as plt\n",
    "%matplotlib inline\n",
    "import seaborn as sns"
   ]
  },
  {
   "cell_type": "code",
   "execution_count": 4,
   "id": "74fc3a61",
   "metadata": {},
   "outputs": [],
   "source": [
    "# change working directory\n",
    "import os\n",
    "os.getcwd()\n",
    "os.chdir('/Users/hoeunsin/PerfectGuide-master/Data/diabetes/')"
   ]
  },
  {
   "cell_type": "code",
   "execution_count": 5,
   "id": "fdc1b887",
   "metadata": {},
   "outputs": [],
   "source": [
    "# read csv\n",
    "d = pd.read_csv('diabetes.csv')"
   ]
  },
  {
   "cell_type": "code",
   "execution_count": 7,
   "id": "4c2dfb7e",
   "metadata": {},
   "outputs": [
    {
     "data": {
      "text/html": [
       "<div>\n",
       "<style scoped>\n",
       "    .dataframe tbody tr th:only-of-type {\n",
       "        vertical-align: middle;\n",
       "    }\n",
       "\n",
       "    .dataframe tbody tr th {\n",
       "        vertical-align: top;\n",
       "    }\n",
       "\n",
       "    .dataframe thead th {\n",
       "        text-align: right;\n",
       "    }\n",
       "</style>\n",
       "<table border=\"1\" class=\"dataframe\">\n",
       "  <thead>\n",
       "    <tr style=\"text-align: right;\">\n",
       "      <th></th>\n",
       "      <th>Pregnancies</th>\n",
       "      <th>Glucose</th>\n",
       "      <th>BloodPressure</th>\n",
       "      <th>SkinThickness</th>\n",
       "      <th>Insulin</th>\n",
       "      <th>BMI</th>\n",
       "      <th>DiabetesPedigreeFunction</th>\n",
       "      <th>Age</th>\n",
       "      <th>Outcome</th>\n",
       "    </tr>\n",
       "  </thead>\n",
       "  <tbody>\n",
       "    <tr>\n",
       "      <th>0</th>\n",
       "      <td>6</td>\n",
       "      <td>148</td>\n",
       "      <td>72</td>\n",
       "      <td>35</td>\n",
       "      <td>0</td>\n",
       "      <td>33.6</td>\n",
       "      <td>0.627</td>\n",
       "      <td>50</td>\n",
       "      <td>1</td>\n",
       "    </tr>\n",
       "    <tr>\n",
       "      <th>1</th>\n",
       "      <td>1</td>\n",
       "      <td>85</td>\n",
       "      <td>66</td>\n",
       "      <td>29</td>\n",
       "      <td>0</td>\n",
       "      <td>26.6</td>\n",
       "      <td>0.351</td>\n",
       "      <td>31</td>\n",
       "      <td>0</td>\n",
       "    </tr>\n",
       "    <tr>\n",
       "      <th>2</th>\n",
       "      <td>8</td>\n",
       "      <td>183</td>\n",
       "      <td>64</td>\n",
       "      <td>0</td>\n",
       "      <td>0</td>\n",
       "      <td>23.3</td>\n",
       "      <td>0.672</td>\n",
       "      <td>32</td>\n",
       "      <td>1</td>\n",
       "    </tr>\n",
       "  </tbody>\n",
       "</table>\n",
       "</div>"
      ],
      "text/plain": [
       "   Pregnancies  Glucose  BloodPressure  SkinThickness  Insulin   BMI  \\\n",
       "0            6      148             72             35        0  33.6   \n",
       "1            1       85             66             29        0  26.6   \n",
       "2            8      183             64              0        0  23.3   \n",
       "\n",
       "   DiabetesPedigreeFunction  Age  Outcome  \n",
       "0                     0.627   50        1  \n",
       "1                     0.351   31        0  \n",
       "2                     0.672   32        1  "
      ]
     },
     "execution_count": 7,
     "metadata": {},
     "output_type": "execute_result"
    }
   ],
   "source": [
    "# head\n",
    "d.head(3)"
   ]
  },
  {
   "cell_type": "code",
   "execution_count": 8,
   "id": "d9643cc5",
   "metadata": {},
   "outputs": [
    {
     "name": "stdout",
     "output_type": "stream",
     "text": [
      "<class 'pandas.core.frame.DataFrame'>\n",
      "RangeIndex: 768 entries, 0 to 767\n",
      "Data columns (total 9 columns):\n",
      " #   Column                    Non-Null Count  Dtype  \n",
      "---  ------                    --------------  -----  \n",
      " 0   Pregnancies               768 non-null    int64  \n",
      " 1   Glucose                   768 non-null    int64  \n",
      " 2   BloodPressure             768 non-null    int64  \n",
      " 3   SkinThickness             768 non-null    int64  \n",
      " 4   Insulin                   768 non-null    int64  \n",
      " 5   BMI                       768 non-null    float64\n",
      " 6   DiabetesPedigreeFunction  768 non-null    float64\n",
      " 7   Age                       768 non-null    int64  \n",
      " 8   Outcome                   768 non-null    int64  \n",
      "dtypes: float64(2), int64(7)\n",
      "memory usage: 54.1 KB\n"
     ]
    }
   ],
   "source": [
    "# info\n",
    "d.info()"
   ]
  },
  {
   "cell_type": "code",
   "execution_count": 9,
   "id": "b856cf00",
   "metadata": {},
   "outputs": [
    {
     "data": {
      "text/html": [
       "<div>\n",
       "<style scoped>\n",
       "    .dataframe tbody tr th:only-of-type {\n",
       "        vertical-align: middle;\n",
       "    }\n",
       "\n",
       "    .dataframe tbody tr th {\n",
       "        vertical-align: top;\n",
       "    }\n",
       "\n",
       "    .dataframe thead th {\n",
       "        text-align: right;\n",
       "    }\n",
       "</style>\n",
       "<table border=\"1\" class=\"dataframe\">\n",
       "  <thead>\n",
       "    <tr style=\"text-align: right;\">\n",
       "      <th></th>\n",
       "      <th>Pregnancies</th>\n",
       "      <th>Glucose</th>\n",
       "      <th>BloodPressure</th>\n",
       "      <th>SkinThickness</th>\n",
       "      <th>Insulin</th>\n",
       "      <th>BMI</th>\n",
       "      <th>DiabetesPedigreeFunction</th>\n",
       "      <th>Age</th>\n",
       "      <th>Outcome</th>\n",
       "    </tr>\n",
       "  </thead>\n",
       "  <tbody>\n",
       "    <tr>\n",
       "      <th>count</th>\n",
       "      <td>768.000000</td>\n",
       "      <td>768.000000</td>\n",
       "      <td>768.000000</td>\n",
       "      <td>768.000000</td>\n",
       "      <td>768.000000</td>\n",
       "      <td>768.000000</td>\n",
       "      <td>768.000000</td>\n",
       "      <td>768.000000</td>\n",
       "      <td>768.000000</td>\n",
       "    </tr>\n",
       "    <tr>\n",
       "      <th>mean</th>\n",
       "      <td>3.845052</td>\n",
       "      <td>120.894531</td>\n",
       "      <td>69.105469</td>\n",
       "      <td>20.536458</td>\n",
       "      <td>79.799479</td>\n",
       "      <td>31.992578</td>\n",
       "      <td>0.471876</td>\n",
       "      <td>33.240885</td>\n",
       "      <td>0.348958</td>\n",
       "    </tr>\n",
       "    <tr>\n",
       "      <th>std</th>\n",
       "      <td>3.369578</td>\n",
       "      <td>31.972618</td>\n",
       "      <td>19.355807</td>\n",
       "      <td>15.952218</td>\n",
       "      <td>115.244002</td>\n",
       "      <td>7.884160</td>\n",
       "      <td>0.331329</td>\n",
       "      <td>11.760232</td>\n",
       "      <td>0.476951</td>\n",
       "    </tr>\n",
       "    <tr>\n",
       "      <th>min</th>\n",
       "      <td>0.000000</td>\n",
       "      <td>0.000000</td>\n",
       "      <td>0.000000</td>\n",
       "      <td>0.000000</td>\n",
       "      <td>0.000000</td>\n",
       "      <td>0.000000</td>\n",
       "      <td>0.078000</td>\n",
       "      <td>21.000000</td>\n",
       "      <td>0.000000</td>\n",
       "    </tr>\n",
       "    <tr>\n",
       "      <th>25%</th>\n",
       "      <td>1.000000</td>\n",
       "      <td>99.000000</td>\n",
       "      <td>62.000000</td>\n",
       "      <td>0.000000</td>\n",
       "      <td>0.000000</td>\n",
       "      <td>27.300000</td>\n",
       "      <td>0.243750</td>\n",
       "      <td>24.000000</td>\n",
       "      <td>0.000000</td>\n",
       "    </tr>\n",
       "    <tr>\n",
       "      <th>50%</th>\n",
       "      <td>3.000000</td>\n",
       "      <td>117.000000</td>\n",
       "      <td>72.000000</td>\n",
       "      <td>23.000000</td>\n",
       "      <td>30.500000</td>\n",
       "      <td>32.000000</td>\n",
       "      <td>0.372500</td>\n",
       "      <td>29.000000</td>\n",
       "      <td>0.000000</td>\n",
       "    </tr>\n",
       "    <tr>\n",
       "      <th>75%</th>\n",
       "      <td>6.000000</td>\n",
       "      <td>140.250000</td>\n",
       "      <td>80.000000</td>\n",
       "      <td>32.000000</td>\n",
       "      <td>127.250000</td>\n",
       "      <td>36.600000</td>\n",
       "      <td>0.626250</td>\n",
       "      <td>41.000000</td>\n",
       "      <td>1.000000</td>\n",
       "    </tr>\n",
       "    <tr>\n",
       "      <th>max</th>\n",
       "      <td>17.000000</td>\n",
       "      <td>199.000000</td>\n",
       "      <td>122.000000</td>\n",
       "      <td>99.000000</td>\n",
       "      <td>846.000000</td>\n",
       "      <td>67.100000</td>\n",
       "      <td>2.420000</td>\n",
       "      <td>81.000000</td>\n",
       "      <td>1.000000</td>\n",
       "    </tr>\n",
       "  </tbody>\n",
       "</table>\n",
       "</div>"
      ],
      "text/plain": [
       "       Pregnancies     Glucose  BloodPressure  SkinThickness     Insulin  \\\n",
       "count   768.000000  768.000000     768.000000     768.000000  768.000000   \n",
       "mean      3.845052  120.894531      69.105469      20.536458   79.799479   \n",
       "std       3.369578   31.972618      19.355807      15.952218  115.244002   \n",
       "min       0.000000    0.000000       0.000000       0.000000    0.000000   \n",
       "25%       1.000000   99.000000      62.000000       0.000000    0.000000   \n",
       "50%       3.000000  117.000000      72.000000      23.000000   30.500000   \n",
       "75%       6.000000  140.250000      80.000000      32.000000  127.250000   \n",
       "max      17.000000  199.000000     122.000000      99.000000  846.000000   \n",
       "\n",
       "              BMI  DiabetesPedigreeFunction         Age     Outcome  \n",
       "count  768.000000                768.000000  768.000000  768.000000  \n",
       "mean    31.992578                  0.471876   33.240885    0.348958  \n",
       "std      7.884160                  0.331329   11.760232    0.476951  \n",
       "min      0.000000                  0.078000   21.000000    0.000000  \n",
       "25%     27.300000                  0.243750   24.000000    0.000000  \n",
       "50%     32.000000                  0.372500   29.000000    0.000000  \n",
       "75%     36.600000                  0.626250   41.000000    1.000000  \n",
       "max     67.100000                  2.420000   81.000000    1.000000  "
      ]
     },
     "execution_count": 9,
     "metadata": {},
     "output_type": "execute_result"
    }
   ],
   "source": [
    "# describe\n",
    "d.describe()"
   ]
  },
  {
   "cell_type": "code",
   "execution_count": 10,
   "id": "816ea6d0",
   "metadata": {},
   "outputs": [
    {
     "data": {
      "text/plain": [
       "Pregnancies                 0\n",
       "Glucose                     0\n",
       "BloodPressure               0\n",
       "SkinThickness               0\n",
       "Insulin                     0\n",
       "BMI                         0\n",
       "DiabetesPedigreeFunction    0\n",
       "Age                         0\n",
       "Outcome                     0\n",
       "dtype: int64"
      ]
     },
     "execution_count": 10,
     "metadata": {},
     "output_type": "execute_result"
    }
   ],
   "source": [
    "# NA check\n",
    "d.isna().sum()"
   ]
  },
  {
   "cell_type": "code",
   "execution_count": 14,
   "id": "1297b79d",
   "metadata": {},
   "outputs": [
    {
     "data": {
      "text/plain": [
       "8"
      ]
     },
     "execution_count": 14,
     "metadata": {},
     "output_type": "execute_result"
    }
   ],
   "source": [
    "# distribution\n",
    "features = d.columns[d.columns!='Outcome']\n",
    "len(features)"
   ]
  },
  {
   "cell_type": "code",
   "execution_count": 17,
   "id": "b696c1dd",
   "metadata": {},
   "outputs": [
    {
     "data": {
      "image/png": "[encoded data removed]",
      "text/plain": [
       "<Figure size 864x864 with 8 Axes>"
      ]
     },
     "metadata": {
      "needs_background": "light"
     },
     "output_type": "display_data"
    }
   ],
   "source": [
    "# figure\n",
    "fig, axes = plt.subplots(ncols=2, nrows=4, figsize=(12,12))\n",
    "\n",
    "for i , ax in zip(range(0,8), axes.flat):\n",
    "    sns.histplot(data=d, x=features[i], ax=ax)"
   ]
  },
  {
   "cell_type": "code",
   "execution_count": 30,
   "id": "16c1e5fd",
   "metadata": {},
   "outputs": [],
   "source": [
    "# replace zeros\n",
    "d[features]= d[features].replace(0, d[features].mean())"
   ]
  },
  {
   "cell_type": "code",
   "execution_count": 31,
   "id": "51923e5c",
   "metadata": {},
   "outputs": [
    {
     "data": {
      "image/png": "[encoded data removed]",
      "text/plain": [
       "<Figure size 864x864 with 8 Axes>"
      ]
     },
     "metadata": {
      "needs_background": "light"
     },
     "output_type": "display_data"
    }
   ],
   "source": [
    "# distribution after replace zeros\n",
    "fig, axes = plt.subplots(ncols=2, nrows=4, figsize=(12,12))\n",
    "\n",
    "for i , ax in zip(range(0,8), axes.flat):\n",
    "    sns.histplot(data=d, x=features[i], ax=ax)"
   ]
  },
  {
   "cell_type": "code",
   "execution_count": 33,
   "id": "8345d4e3",
   "metadata": {},
   "outputs": [],
   "source": [
    "# feature, label \n",
    "features = d.drop('Outcome', axis=1)\n",
    "label = d.loc[:,'Outcome']"
   ]
  },
  {
   "cell_type": "code",
   "execution_count": 45,
   "id": "3a1824f9",
   "metadata": {},
   "outputs": [
    {
     "data": {
      "text/plain": [
       "(768, 8)"
      ]
     },
     "execution_count": 45,
     "metadata": {},
     "output_type": "execute_result"
    }
   ],
   "source": [
    "# StandardScaler\n",
    "from sklearn.preprocessing import StandardScaler\n",
    "\n",
    "scaler = StandardScaler()\n",
    "X_scaled = scaler.fit_transform(features)\n",
    "X_scaled.shape"
   ]
  },
  {
   "cell_type": "code",
   "execution_count": 46,
   "id": "2433acd0",
   "metadata": {},
   "outputs": [],
   "source": [
    "# Train_Test_split\n",
    "from sklearn.model_selection import train_test_split\n",
    "\n",
    "X_train, X_test, y_train, y_test = train_test_split(X_scaled ,  label, test_size=0.2, random_state=156, stratify = label)"
   ]
  },
  {
   "cell_type": "code",
   "execution_count": 47,
   "id": "963c6733",
   "metadata": {},
   "outputs": [],
   "source": [
    "# LogisticRegression\n",
    "from sklearn.linear_model import LogisticRegression\n",
    "\n",
    "lr = LogisticRegression(solver = 'liblinear')"
   ]
  },
  {
   "cell_type": "code",
   "execution_count": 48,
   "id": "45281a4e",
   "metadata": {},
   "outputs": [
    {
     "data": {
      "text/plain": [
       "LogisticRegression(solver='liblinear')"
      ]
     },
     "execution_count": 48,
     "metadata": {},
     "output_type": "execute_result"
    }
   ],
   "source": [
    "# fitting\n",
    "lr.fit(X_train, y_train)"
   ]
  },
  {
   "cell_type": "code",
   "execution_count": 49,
   "id": "9eecdb61",
   "metadata": {},
   "outputs": [],
   "source": [
    "# predicting\n",
    "pred = lr.predict(X_test)"
   ]
  },
  {
   "cell_type": "code",
   "execution_count": 51,
   "id": "9bc06e6c",
   "metadata": {},
   "outputs": [],
   "source": [
    "# metrics\n",
    "from sklearn.metrics import confusion_matrix, accuracy_score, precision_score, recall_score, f1_score\n",
    "from sklearn.metrics import precision_recall_curve, roc_auc_score, roc_curve"
   ]
  },
  {
   "cell_type": "code",
   "execution_count": 53,
   "id": "ca11c38b",
   "metadata": {},
   "outputs": [],
   "source": [
    "# get scores function\n",
    "def get_scores(y_test, pred, pred_proba_1):\n",
    "    con = confusion_matrix(y_test, pred)\n",
    "    acc = accuracy_score(y_test, pred)\n",
    "    pre = precision_score(y_test, pred)\n",
    "    rec = recall_score(y_test, pred)\n",
    "    f1 = f1_score(y_test, pred)\n",
    "    roc_auc = roc_auc_score(y_test, pred_proba_1)\n",
    "    \n",
    "    print('Confusion Matrix : \\n{}'.format(con))\n",
    "    print('Accuracy Score : {:.4f}'.format(acc))\n",
    "    print('Precision Score : {:.4f}'.format(pre))\n",
    "    print('Recall Score : {:.4f}'.format(rec))\n",
    "    print('F1 Score : {:.4f}'.format(f1))\n",
    "    print('ROC_AUC Score : {:.4f}'.format(roc_auc))"
   ]
  },
  {
   "cell_type": "code",
   "execution_count": 56,
   "id": "edace4e4",
   "metadata": {},
   "outputs": [
    {
     "name": "stdout",
     "output_type": "stream",
     "text": [
      "Confusion Matrix : \n",
      "[[89 11]\n",
      " [20 34]]\n",
      "Accuracy Score : 0.7987\n",
      "Precision Score : 0.7556\n",
      "Recall Score : 0.6296\n",
      "F1 Score : 0.6869\n",
      "ROC_AUC Score : 0.8452\n"
     ]
    }
   ],
   "source": [
    "# get scores\n",
    "pred_proba_1 = lr.predict_proba(X_test)[:,1]\n",
    "\n",
    "get_scores(y_test, pred, pred_proba_1)"
   ]
  },
  {
   "cell_type": "code",
   "execution_count": 78,
   "id": "8fc6ec75",
   "metadata": {},
   "outputs": [],
   "source": [
    "# precision_recall curve\n",
    "def p_r_curve(y_test, pred_proba_1):\n",
    "    pre, rec ,  thr = precision_recall_curve(y_test, pred_proba_1)\n",
    "    plt.figure(figsize=(10,6))\n",
    "    plt.plot(thr, pre[0:thr.shape[0]], label='precision', linestyle='--')\n",
    "    plt.plot(thr, rec[0:thr.shape[0]], label='recall')\n",
    "    start, end = plt.xlim()\n",
    "    plt.xticks(np.round(np.arange(start, end, 0.1), 2))\n",
    "    plt.xlabel('Threshold Value'); plt.ylabel('Precision & Recall Value')\n",
    "    plt.legend() ; plt.grid()\n",
    "    plt.show()"
   ]
  },
  {
   "cell_type": "code",
   "execution_count": 79,
   "id": "fe5d8f2f",
   "metadata": {
    "scrolled": false
   },
   "outputs": [
    {
     "data": {
      "image/png": "[encoded data removed]",
      "text/plain": [
       "<Figure size 720x432 with 1 Axes>"
      ]
     },
     "metadata": {
      "needs_background": "light"
     },
     "output_type": "display_data"
    }
   ],
   "source": [
    "# precision recall curve plot\n",
    "p_r_curve(y_test, pred_proba_1)"
   ]
  },
  {
   "cell_type": "markdown",
   "id": "041b243e",
   "metadata": {},
   "source": [
    "### < Key Point >\n",
    "* 정확도(Precision)는 0.75 이상이지만, 재현율(Recall)은 0.63정도로 낮음\n",
    "* 정확도는 적게 떨어지지만 재현율을 높이는 임곗값 탐색 필요\n",
    "* 재현율을 높여야 하기 때문에 임계값은 0.45보다 작은 값이어야 함\n",
    "* 정확도가 0.6 이상은 되어야 하기 때문에 임계값은 0.3 이상이어야 함"
   ]
  },
  {
   "cell_type": "code",
   "execution_count": 131,
   "id": "b0fceff4",
   "metadata": {},
   "outputs": [
    {
     "data": {
      "text/plain": [
       "array([0.3 , 0.31, 0.32, 0.33, 0.34, 0.35, 0.36, 0.37, 0.38, 0.39, 0.4 ,\n",
       "       0.41, 0.42, 0.43, 0.44, 0.45, 0.46, 0.47, 0.48, 0.49])"
      ]
     },
     "execution_count": 131,
     "metadata": {},
     "output_type": "execute_result"
    }
   ],
   "source": [
    "# threshold\n",
    "thresholds = np.round(np.arange(0.3, 0.5, 0.01),2)\n",
    "thresholds"
   ]
  },
  {
   "cell_type": "code",
   "execution_count": 132,
   "id": "17f05789",
   "metadata": {},
   "outputs": [],
   "source": [
    "# Binarizer\n",
    "from sklearn.preprocessing import Binarizer"
   ]
  },
  {
   "cell_type": "code",
   "execution_count": 133,
   "id": "2efe2749",
   "metadata": {},
   "outputs": [
    {
     "data": {
      "text/plain": [
       "(154, 1)"
      ]
     },
     "execution_count": 133,
     "metadata": {},
     "output_type": "execute_result"
    }
   ],
   "source": [
    "pred_proba_1.reshape(-1,1).shape"
   ]
  },
  {
   "cell_type": "code",
   "execution_count": 134,
   "id": "62908101",
   "metadata": {},
   "outputs": [],
   "source": [
    "binarizer = Binarizer(threshold=0.4)\n",
    "binarizer.fit(pred_proba_1.reshape(-1,1))\n",
    "c_pred = binarizer.transform(pred_proba_1.reshape(-1,1))"
   ]
  },
  {
   "cell_type": "code",
   "execution_count": 136,
   "id": "70d87037",
   "metadata": {},
   "outputs": [],
   "source": [
    "def get_scores_thr(y_test, pred_proba_1, thresholds):\n",
    "    \n",
    "    for i, thr in enumerate(thresholds):\n",
    "        binarizer = Binarizer(threshold = thr)\n",
    "        binarizer.fit(pred_proba_1.reshape(-1,1))\n",
    "        c_pred = binarizer.transform(pred_proba_1.reshape(-1,1))\n",
    "        print('\\n##### {}'.format(i+1))\n",
    "        print('Threshold : {}'.format(thr))\n",
    "        get_scores(y_test,c_pred, pred_proba_1)"
   ]
  },
  {
   "cell_type": "code",
   "execution_count": 137,
   "id": "14906888",
   "metadata": {
    "scrolled": false
   },
   "outputs": [
    {
     "name": "stdout",
     "output_type": "stream",
     "text": [
      "\n",
      "##### 1\n",
      "Threshold : 0.3\n",
      "Confusion Matrix : \n",
      "[[69 31]\n",
      " [11 43]]\n",
      "Accuracy Score : 0.7273\n",
      "Precision Score : 0.5811\n",
      "Recall Score : 0.7963\n",
      "F1 Score : 0.6719\n",
      "ROC_AUC Score : 0.8452\n",
      "\n",
      "##### 2\n",
      "Threshold : 0.31\n",
      "Confusion Matrix : \n",
      "[[69 31]\n",
      " [12 42]]\n",
      "Accuracy Score : 0.7208\n",
      "Precision Score : 0.5753\n",
      "Recall Score : 0.7778\n",
      "F1 Score : 0.6614\n",
      "ROC_AUC Score : 0.8452\n",
      "\n",
      "##### 3\n",
      "Threshold : 0.32\n",
      "Confusion Matrix : \n",
      "[[71 29]\n",
      " [12 42]]\n",
      "Accuracy Score : 0.7338\n",
      "Precision Score : 0.5915\n",
      "Recall Score : 0.7778\n",
      "F1 Score : 0.6720\n",
      "ROC_AUC Score : 0.8452\n",
      "\n",
      "##### 4\n",
      "Threshold : 0.33\n",
      "Confusion Matrix : \n",
      "[[72 28]\n",
      " [13 41]]\n",
      "Accuracy Score : 0.7338\n",
      "Precision Score : 0.5942\n",
      "Recall Score : 0.7593\n",
      "F1 Score : 0.6667\n",
      "ROC_AUC Score : 0.8452\n",
      "\n",
      "##### 5\n",
      "Threshold : 0.34\n",
      "Confusion Matrix : \n",
      "[[73 27]\n",
      " [13 41]]\n",
      "Accuracy Score : 0.7403\n",
      "Precision Score : 0.6029\n",
      "Recall Score : 0.7593\n",
      "F1 Score : 0.6721\n",
      "ROC_AUC Score : 0.8452\n",
      "\n",
      "##### 6\n",
      "Threshold : 0.35\n",
      "Confusion Matrix : \n",
      "[[74 26]\n",
      " [14 40]]\n",
      "Accuracy Score : 0.7403\n",
      "Precision Score : 0.6061\n",
      "Recall Score : 0.7407\n",
      "F1 Score : 0.6667\n",
      "ROC_AUC Score : 0.8452\n",
      "\n",
      "##### 7\n",
      "Threshold : 0.36\n",
      "Confusion Matrix : \n",
      "[[74 26]\n",
      " [16 38]]\n",
      "Accuracy Score : 0.7273\n",
      "Precision Score : 0.5938\n",
      "Recall Score : 0.7037\n",
      "F1 Score : 0.6441\n",
      "ROC_AUC Score : 0.8452\n",
      "\n",
      "##### 8\n",
      "Threshold : 0.37\n",
      "Confusion Matrix : \n",
      "[[75 25]\n",
      " [16 38]]\n",
      "Accuracy Score : 0.7338\n",
      "Precision Score : 0.6032\n",
      "Recall Score : 0.7037\n",
      "F1 Score : 0.6496\n",
      "ROC_AUC Score : 0.8452\n",
      "\n",
      "##### 9\n",
      "Threshold : 0.38\n",
      "Confusion Matrix : \n",
      "[[78 22]\n",
      " [16 38]]\n",
      "Accuracy Score : 0.7532\n",
      "Precision Score : 0.6333\n",
      "Recall Score : 0.7037\n",
      "F1 Score : 0.6667\n",
      "ROC_AUC Score : 0.8452\n",
      "\n",
      "##### 10\n",
      "Threshold : 0.39\n",
      "Confusion Matrix : \n",
      "[[79 21]\n",
      " [16 38]]\n",
      "Accuracy Score : 0.7597\n",
      "Precision Score : 0.6441\n",
      "Recall Score : 0.7037\n",
      "F1 Score : 0.6726\n",
      "ROC_AUC Score : 0.8452\n",
      "\n",
      "##### 11\n",
      "Threshold : 0.4\n",
      "Confusion Matrix : \n",
      "[[79 21]\n",
      " [16 38]]\n",
      "Accuracy Score : 0.7597\n",
      "Precision Score : 0.6441\n",
      "Recall Score : 0.7037\n",
      "F1 Score : 0.6726\n",
      "ROC_AUC Score : 0.8452\n",
      "\n",
      "##### 12\n",
      "Threshold : 0.41\n",
      "Confusion Matrix : \n",
      "[[80 20]\n",
      " [16 38]]\n",
      "Accuracy Score : 0.7662\n",
      "Precision Score : 0.6552\n",
      "Recall Score : 0.7037\n",
      "F1 Score : 0.6786\n",
      "ROC_AUC Score : 0.8452\n",
      "\n",
      "##### 13\n",
      "Threshold : 0.42\n",
      "Confusion Matrix : \n",
      "[[81 19]\n",
      " [18 36]]\n",
      "Accuracy Score : 0.7597\n",
      "Precision Score : 0.6545\n",
      "Recall Score : 0.6667\n",
      "F1 Score : 0.6606\n",
      "ROC_AUC Score : 0.8452\n",
      "\n",
      "##### 14\n",
      "Threshold : 0.43\n",
      "Confusion Matrix : \n",
      "[[83 17]\n",
      " [19 35]]\n",
      "Accuracy Score : 0.7662\n",
      "Precision Score : 0.6731\n",
      "Recall Score : 0.6481\n",
      "F1 Score : 0.6604\n",
      "ROC_AUC Score : 0.8452\n",
      "\n",
      "##### 15\n",
      "Threshold : 0.44\n",
      "Confusion Matrix : \n",
      "[[84 16]\n",
      " [19 35]]\n",
      "Accuracy Score : 0.7727\n",
      "Precision Score : 0.6863\n",
      "Recall Score : 0.6481\n",
      "F1 Score : 0.6667\n",
      "ROC_AUC Score : 0.8452\n",
      "\n",
      "##### 16\n",
      "Threshold : 0.45\n",
      "Confusion Matrix : \n",
      "[[84 16]\n",
      " [19 35]]\n",
      "Accuracy Score : 0.7727\n",
      "Precision Score : 0.6863\n",
      "Recall Score : 0.6481\n",
      "F1 Score : 0.6667\n",
      "ROC_AUC Score : 0.8452\n",
      "\n",
      "##### 17\n",
      "Threshold : 0.46\n",
      "Confusion Matrix : \n",
      "[[85 15]\n",
      " [19 35]]\n",
      "Accuracy Score : 0.7792\n",
      "Precision Score : 0.7000\n",
      "Recall Score : 0.6481\n",
      "F1 Score : 0.6731\n",
      "ROC_AUC Score : 0.8452\n",
      "\n",
      "##### 18\n",
      "Threshold : 0.47\n",
      "Confusion Matrix : \n",
      "[[87 13]\n",
      " [20 34]]\n",
      "Accuracy Score : 0.7857\n",
      "Precision Score : 0.7234\n",
      "Recall Score : 0.6296\n",
      "F1 Score : 0.6733\n",
      "ROC_AUC Score : 0.8452\n",
      "\n",
      "##### 19\n",
      "Threshold : 0.48\n",
      "Confusion Matrix : \n",
      "[[88 12]\n",
      " [20 34]]\n",
      "Accuracy Score : 0.7922\n",
      "Precision Score : 0.7391\n",
      "Recall Score : 0.6296\n",
      "F1 Score : 0.6800\n",
      "ROC_AUC Score : 0.8452\n",
      "\n",
      "##### 20\n",
      "Threshold : 0.49\n",
      "Confusion Matrix : \n",
      "[[89 11]\n",
      " [20 34]]\n",
      "Accuracy Score : 0.7987\n",
      "Precision Score : 0.7556\n",
      "Recall Score : 0.6296\n",
      "F1 Score : 0.6869\n",
      "ROC_AUC Score : 0.8452\n"
     ]
    }
   ],
   "source": [
    "get_scores_thr(y_test, pred_proba_1, thresholds)"
   ]
  },
  {
   "cell_type": "code",
   "execution_count": 138,
   "id": "da17f3f8",
   "metadata": {},
   "outputs": [],
   "source": [
    "# threshold 0.48\n",
    "binarizer = Binarizer(threshold = 0.48)\n",
    "\n",
    "binarizer.fit(pred_proba_1.reshape(-1,1))\n",
    "\n",
    "c_pred = binarizer.transform(pred_proba_1.reshape(-1,1))"
   ]
  },
  {
   "cell_type": "code",
   "execution_count": 144,
   "id": "1b020a32",
   "metadata": {},
   "outputs": [
    {
     "name": "stdout",
     "output_type": "stream",
     "text": [
      "Confusion Matrix : \n",
      "[[88 12]\n",
      " [20 34]]\n",
      "Accuracy Score : 0.7922\n",
      "Precision Score : 0.7391\n",
      "Recall Score : 0.6296\n",
      "F1 Score : 0.6800\n",
      "ROC_AUC Score : 0.8452\n"
     ]
    }
   ],
   "source": [
    "# scores\n",
    "get_scores(y_test, c_pred, pred_proba_1)"
   ]
  }
 ],
 "metadata": {
  "kernelspec": {
   "display_name": "pj01",
   "language": "python",
   "name": "pj01"
  },
  "language_info": {
   "codemirror_mode": {
    "name": "ipython",
    "version": 3
   },
   "file_extension": ".py",
   "mimetype": "text/x-python",
   "name": "python",
   "nbconvert_exporter": "python",
   "pygments_lexer": "ipython3",
   "version": "3.8.8"
  }
 },
 "nbformat": 4,
 "nbformat_minor": 5
}
